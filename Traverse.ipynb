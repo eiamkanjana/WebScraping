{
  "nbformat": 4,
  "nbformat_minor": 0,
  "metadata": {
    "colab": {
      "name": "Traverse.ipynb",
      "provenance": [],
      "collapsed_sections": [],
      "authorship_tag": "ABX9TyP3SxDiBHfK8LAalTuf9t/0",
      "include_colab_link": true
    },
    "kernelspec": {
      "name": "python3",
      "display_name": "Python 3"
    }
  },
  "cells": [
    {
      "cell_type": "markdown",
      "metadata": {
        "id": "view-in-github",
        "colab_type": "text"
      },
      "source": [
        "<a href=\"https://colab.research.google.com/github/kanjanaengsrc/WebScraping/blob/master/Traverse.ipynb\" target=\"_parent\"><img src=\"https://colab.research.google.com/assets/colab-badge.svg\" alt=\"Open In Colab\"/></a>"
      ]
    },
    {
      "cell_type": "markdown",
      "metadata": {
        "id": "g4xeUmMvCrvk",
        "colab_type": "text"
      },
      "source": [
        "*   ใช้ Library สำหรับอ่านข้อมูลจาก url ที่ระบุด้วย urllib\n",
        "*   ใช้ library BeautifulSoup (BS4) สำหรับอ่าน DOM\n",
        "\n",
        "\n",
        "/*** เสริม!! หากต้องการดูลำดับหรือค้นหา tag name ต่าง ๆ ใน html code เราสามารถใช้โค้ด JS เพื่อการค้นหาได้ดังนี้ **/\n",
        "var i = 1; [].forEach.call(document.getElementsByTagName(\"TAGNAME\"),\n",
        "   function(x) { console.log(i++, x); });"
      ]
    },
    {
      "cell_type": "code",
      "metadata": {
        "id": "XePx7aPqPKuJ",
        "colab_type": "code",
        "colab": {}
      },
      "source": [
        "from urllib.request import urlopen, Request\n",
        "from bs4 import BeautifulSoup"
      ],
      "execution_count": 0,
      "outputs": []
    },
    {
      "cell_type": "markdown",
      "metadata": {
        "id": "nSUY2aIcbrWE",
        "colab_type": "text"
      },
      "source": [
        "ฟังก์ชัน readHtml ทำหน้าที่สร้าง http header และส่ง request ไปยัง url ที่กำหนด\n",
        "เหตุผลที่ต้องสร้าง header คือ server บางตัวทำการตรวจสอบ abnormal access ก่อน หากพบว่าผิดปกติจะไม่ให้เข้าถึงทันที (Forbidden 403)\n",
        "\n",
        "**หากต้องการพิสูจน์เรื่อง header ให้ลบ header ในโค้ดออก และเปลี่ยน url สำหรับดึงข้อมูลเป็น #url = \"https://www.freecodecamp.org/news/html-and-html5-example/\""
      ]
    },
    {
      "cell_type": "code",
      "metadata": {
        "id": "FlY6iZK7R6_e",
        "colab_type": "code",
        "colab": {}
      },
      "source": [
        "def readHtml(reg_url):\n",
        "  headers = {'User-Agent': 'Mozilla/5.0 (Windows NT 6.1) AppleWebKit/537.36 (KHTML, like Gecko) Chrome/41.0.2228.0 Safari/537.3'}\n",
        "  req = Request(url=reg_url, headers=headers) \n",
        "  return urlopen(req).read()"
      ],
      "execution_count": 0,
      "outputs": []
    },
    {
      "cell_type": "markdown",
      "metadata": {
        "id": "alJqidAgEgXx",
        "colab_type": "text"
      },
      "source": [
        "ในฟังก์ชัน showContents แสดงการใช้ฟังก์ชัน get_text() เพื่อเอาข้อมูลใน element มาแสดงผล\n"
      ]
    },
    {
      "cell_type": "code",
      "metadata": {
        "id": "90gpeuxW9bTc",
        "colab_type": "code",
        "colab": {}
      },
      "source": [
        "def showContents(contents):\n",
        "  for content in contents:\n",
        "    print(content.get_text())"
      ],
      "execution_count": 0,
      "outputs": []
    },
    {
      "cell_type": "markdown",
      "metadata": {
        "id": "bngiFnARES00",
        "colab_type": "text"
      },
      "source": [
        "ในฟังก์ชัน showLinks แสดงการใช้ฟังก์ชัน get พร้อมกับระบุ attribute ของสิ่งที่ต้องการ"
      ]
    },
    {
      "cell_type": "code",
      "metadata": {
        "id": "X479wVuyCQ7-",
        "colab_type": "code",
        "colab": {}
      },
      "source": [
        "def showLinks(links):\n",
        "  for link in links:\n",
        "    print(link.get_text(), end=\" \")\n",
        "    print(link.get('href'))"
      ],
      "execution_count": 0,
      "outputs": []
    },
    {
      "cell_type": "markdown",
      "metadata": {
        "id": "NulenGOvDUhI",
        "colab_type": "text"
      },
      "source": [
        "โปรแกรมเริ่มต้นการทำงานด้วยการสร้างต้นไม้ประเภทหนึ่งชื่อว่า DOM tree โดยการเรียกใช้ library BS4 ซึ่งระบุพารามิเตอร์ไว้ 2 ตัวคือ\n",
        "\n",
        "1.   สตริงที่เขียนด้วยไวยากรณ์ภาษา markup language\n",
        "2.   ชื่อ parser (ในที่นี้ใช้ html parser เนื่องจากอาร์กิวเม้นต์ในลำดับแรกมีลักษณะเป็นภาษา html)"
      ]
    },
    {
      "cell_type": "code",
      "metadata": {
        "id": "tf9X7m20DXlv",
        "colab_type": "code",
        "colab": {}
      },
      "source": [
        "url = \"https://www.york.ac.uk/teaching/cws/wws/webpage4.html\"\n",
        "soup = BeautifulSoup(readHtml(url),'html.parser')"
      ],
      "execution_count": 0,
      "outputs": []
    },
    {
      "cell_type": "markdown",
      "metadata": {
        "id": "1mfzDkgEGi-l",
        "colab_type": "text"
      },
      "source": [
        "เราสามารถดูต้นไม้ที่สร้างขึ้นได้ด้วยฟังก์ชัน prettify"
      ]
    },
    {
      "cell_type": "code",
      "metadata": {
        "id": "budwDtH0M6LA",
        "colab_type": "code",
        "colab": {}
      },
      "source": [
        "soup.prettify()"
      ],
      "execution_count": 0,
      "outputs": []
    },
    {
      "cell_type": "markdown",
      "metadata": {
        "id": "sx1GWj0bD5_o",
        "colab_type": "text"
      },
      "source": [
        "\n",
        "\n",
        "จากนั้นทดลองค้นหาข้อมูลภายใน element ต่าง ๆ ผ่านฟังก์ชัน \n",
        "\n",
        "\n",
        "1. find.TAGNAME.contents\n",
        "2. find.TAGNAME.children\n",
        "3. find('TAGNAME')\n",
        "4. find+attrs (แบบระบุ attributes)\n",
        "5. find+string\n",
        "\n",
        "การใช้ฟังก์ชันเหล่านี้จะได้ผลลัพธ์ออกมาเพียง element เดียว ซึ่งเป็น element อันดับแรกนับจากรากของต้นไม้ DOM"
      ]
    },
    {
      "cell_type": "code",
      "metadata": {
        "id": "6ADU-UoJPOfM",
        "colab_type": "code",
        "colab": {}
      },
      "source": [
        "body = soup.body.contents\n",
        "ex = soup.find('h4')\n",
        "value = soup.find(string='INSERTING IMAGES')\n",
        "table = soup.find(attrs={\n",
        "    'align':'left'\n",
        "})\n",
        "data = soup.find('div',attrs={\n",
        "    'align':'center'\n",
        "})"
      ],
      "execution_count": 0,
      "outputs": []
    },
    {
      "cell_type": "code",
      "metadata": {
        "id": "r9mk1WuuVzOu",
        "colab_type": "code",
        "colab": {}
      },
      "source": [
        "print('---Result of body---',body)\n",
        "print('Result of ex',ex.get_text())\n",
        "print('Result of value',value)\n",
        "print('Result of table',table)\n",
        "print('Result of data',data)"
      ],
      "execution_count": 0,
      "outputs": []
    },
    {
      "cell_type": "markdown",
      "metadata": {
        "id": "QvU0rMBVQide",
        "colab_type": "text"
      },
      "source": [
        "หากไม่ต้องการให้ผลลัพธ์เก็บอยู่ในตัวแปร list แล้ว เราสามารถเรียกใช้ generator ที่ชื่อว่า children เพื่อวนรอบทำงานได้เลย"
      ]
    },
    {
      "cell_type": "code",
      "metadata": {
        "id": "KfWdOZDlQT14",
        "colab_type": "code",
        "colab": {}
      },
      "source": [
        "for child in soup.table.tr.td.children:\n",
        "  if(child.name != None):\n",
        "    print(child.name)"
      ],
      "execution_count": 0,
      "outputs": []
    },
    {
      "cell_type": "markdown",
      "metadata": {
        "id": "Fy174jqoN96i",
        "colab_type": "text"
      },
      "source": [
        "การค้นหาข้อมูลในต้นไม้ DOM อีกวิธีหนึ่งคือ find_all ซึ่งจะได้ผลลัพธ์ออกมามากกว่า 1 element และข้อมูลเก็บอยู่ในรูปของ list"
      ]
    },
    {
      "cell_type": "code",
      "metadata": {
        "id": "kLgDLA89OpJs",
        "colab_type": "code",
        "colab": {}
      },
      "source": [
        "heads = soup.find_all('h4')\n",
        "links = soup.find_all('a')\n",
        "print('----Result of heads----')\n",
        "showContents(heads)\n",
        "print('----Result of links----')\n",
        "showLinks(links)"
      ],
      "execution_count": 0,
      "outputs": []
    },
    {
      "cell_type": "markdown",
      "metadata": {
        "id": "hjsiWK6cf8Gn",
        "colab_type": "text"
      },
      "source": [
        "ตัวอย่าง find_all ด้านล่างนี้เป็นการผสม regx เพื่อค้นหา attribute \"href\" ที่มีค่าสตริง .html ประกอบอยู่เท่านั้น ดังจะเห็นได้ว่า สตริง /inst/cws ไม่แสดงออกมาเหมือนตัวอย่างก่อนหน้า"
      ]
    },
    {
      "cell_type": "code",
      "metadata": {
        "id": "dg6suZjvfCwi",
        "colab_type": "code",
        "colab": {}
      },
      "source": [
        "import re\n",
        "#href = soup.find_all(href=re.compile(\".html\"))\n",
        "href = soup.find_all(attrs={\n",
        "    'href':re.compile(\".html\")\n",
        "})"
      ],
      "execution_count": 0,
      "outputs": []
    },
    {
      "cell_type": "code",
      "metadata": {
        "id": "Tj533hiCI9yq",
        "colab_type": "code",
        "colab": {}
      },
      "source": [
        "href"
      ],
      "execution_count": 0,
      "outputs": []
    }
  ]
}